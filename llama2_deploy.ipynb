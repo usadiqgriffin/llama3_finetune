{
 "cells": [
  {
   "cell_type": "markdown",
   "metadata": {},
   "source": [
    "#### Let's first load the llama2 base model and deploy it"
   ]
  },
  {
   "cell_type": "code",
   "execution_count": 1,
   "metadata": {},
   "outputs": [],
   "source": [
    "import json\n",
    "import re\n",
    "from pprint import pprint\n",
    "from src import process_text, utils\n",
    "\n",
    "import pandas as pd\n",
    "import torch\n",
    "from datasets import Dataset, load_dataset\n",
    "from huggingface_hub import notebook_login\n",
    "from peft import LoraConfig, PeftModel\n",
    "from transformers import (\n",
    "    AutoModelForCausalLM,\n",
    "    AutoTokenizer,\n",
    "    BitsAndBytesConfig,\n",
    "    TrainingArguments,\n",
    ")\n",
    "from trl import SFTTrainer\n",
    "import logging\n",
    "\n",
    "logging.basicConfig(level=logging.INFO)\n",
    "\n",
    "DEVICE = \"cuda:0\" if torch.cuda.is_available() else \"cpu\"\n",
    "#MODEL_NAME = \"meta-llama/Meta-Llama-3-8B-Instruct\"\n",
    "MODEL_NAME = \"meta-llama/Llama-2-7b-hf\""
   ]
  },
  {
   "cell_type": "markdown",
   "metadata": {},
   "source": [
    "#### Download and extract data"
   ]
  },
  {
   "cell_type": "code",
   "execution_count": 2,
   "metadata": {},
   "outputs": [
    {
     "name": "stderr",
     "output_type": "stream",
     "text": [
      "Using the latest cached version of the module from /home/zeus/.cache/huggingface/modules/datasets_modules/datasets/Salesforce--dialogstudio/1dc993c7bcf3cb3392bd580ffe241b1c3a9233c2c2829b84d047788f56b099f5 (last modified on Sat Apr 20 01:03:16 2024) since it couldn't be found locally at Salesforce/dialogstudio, or remotely on the Hugging Face Hub.\n",
      "WARNING:datasets.load:Using the latest cached version of the module from /home/zeus/.cache/huggingface/modules/datasets_modules/datasets/Salesforce--dialogstudio/1dc993c7bcf3cb3392bd580ffe241b1c3a9233c2c2829b84d047788f56b099f5 (last modified on Sat Apr 20 01:03:16 2024) since it couldn't be found locally at Salesforce/dialogstudio, or remotely on the Hugging Face Hub.\n"
     ]
    }
   ],
   "source": [
    "dataset = load_dataset(\"Salesforce/dialogstudio\", \"TweetSumm\")\n",
    "\n",
    "DEFAULT_SYSTEM_PROMPT = \"\"\"\n",
    "                        Below is a conversation between a human and an AI agent. Write a summary of the conversation.\n",
    "                        \"\"\".strip()"
   ]
  },
  {
   "cell_type": "code",
   "execution_count": 12,
   "metadata": {},
   "outputs": [
    {
     "name": "stdout",
     "output_type": "stream",
     "text": [
      "original dialog id:b065262210783596c1fe79466b8f8985\n",
      "new dialog id:TweetSumm--train--1\n",
      "dialog index:1\n",
      "original dialog info:{\"summaries\": {\"extractive_summaries\": [[{\"is_agent\": false, \"sentences\": [\"So neither my iPhone nor my Apple Watch are recording my steps/activity, and Health doesn\\u2019t recognise either source anymore for some reason.\"]}, {\"is_agent\": true, \"sentences\": [\"To start, can you tell us the software versions your iPhone and Apple Watch are running currently?\"]}, {\"is_agent\": false, \"sentences\": [\"@AppleSupport My iPhone is on 11.1.2, and my watch is on 4.1.\"]}], [{\"is_agent\": false, \"sentences\": [\"So neither my iPhone nor my Apple Watch are recording my steps/activity, and Health doesn\\u2019t recognise either source anymore for some reason.\"]}, {\"is_agent\": true, \"sentences\": [\"To start, can you tell us the software versions your iPhone and Apple Watch are running currently?\"]}], [{\"is_agent\": false, \"sentences\": [\"So neither my iPhone nor my Apple Watch are recording my steps/activity, and Health doesn\\u2019t recognise either source anymore for some reason.\"]}, {\"is_agent\": true, \"sentences\": [\"Have you tried restarting both devices since this started happening?\"]}, {\"is_agent\": false, \"sentences\": [\"@AppleSupport Yes, everything seems fine, it\\u2019s just Health and activity.\"]}, {\"is_agent\": true, \"sentences\": [\"@135060 Let\\u2019s move to DM and look into this a bit more.\"]}]], \"abstractive_summaries\": [[\"Customer enquired about his Iphone and Apple watch which is not showing his any steps/activity and health activities.\", \"Agent is asking to move to DM and look into it.\"], [\"The customer has a problem.\", \"The agent in a very professional way tries to help the client.\"], [\"Health and activity functions are not working with the smartwatch and phone.\", \"Asks if the customer had restarted the items, offers to take this to DM to help resolve the issue.\"]]}}\n",
      "log:[{'turn id': 1, 'user utterance': 'So neither my iPhone nor my Apple Watch are recording my steps/activity, and Health doesn’t recognise either source anymore for some reason. Any ideas? https://t.co/m9DPQbkftD @AppleSupport please read the above.', 'system response': '@135060 Let’s investigate this together. To start, can you tell us the software versions your iPhone and Apple Watch are running currently?', 'dialog history': '', 'original user side information': '{}', 'original system side information': '{}'}, {'turn id': 2, 'user utterance': '@AppleSupport My iPhone is on 11.1.2, and my watch is on 4.1.', 'system response': '@135060 Thank you. Have you tried restarting both devices since this started happening?', 'dialog history': '<USER> So neither my iPhone nor my Apple Watch are recording my steps/activity, and Health doesn’t recognise either source anymore for some reason. Any ideas? https://t.co/m9DPQbkftD @AppleSupport please read the above. <SYSTEM> @135060 Let’s investigate this together. To start, can you tell us the software versions your iPhone and Apple Watch are running currently?', 'original user side information': '{}', 'original system side information': '{}'}, {'turn id': 3, 'user utterance': '@AppleSupport I’ve restarted both, also un-paired then re-paired the watch.', 'system response': '@135060 Got it. When did you first notice that the two devices were not talking to each other. Do the two devices communicate through other apps such as Messages?', 'dialog history': '<USER> So neither my iPhone nor my Apple Watch are recording my steps/activity, and Health doesn’t recognise either source anymore for some reason. Any ideas? https://t.co/m9DPQbkftD @AppleSupport please read the above. <SYSTEM> @135060 Let’s investigate this together. To start, can you tell us the software versions your iPhone and Apple Watch are running currently? <USER> @AppleSupport My iPhone is on 11.1.2, and my watch is on 4.1. <SYSTEM> @135060 Thank you. Have you tried restarting both devices since this started happening?', 'original user side information': '{}', 'original system side information': '{}'}, {'turn id': 4, 'user utterance': '@AppleSupport Yes, everything seems fine, it’s just Health and activity.', 'system response': '@135060 Let’s move to DM and look into this a bit more. When reaching out in DM, let us know when this first started happening please. For example, did it start after an update or after installing a certain app? https://t.co/GDrqU22YpT', 'dialog history': '<USER> So neither my iPhone nor my Apple Watch are recording my steps/activity, and Health doesn’t recognise either source anymore for some reason. Any ideas? https://t.co/m9DPQbkftD @AppleSupport please read the above. <SYSTEM> @135060 Let’s investigate this together. To start, can you tell us the software versions your iPhone and Apple Watch are running currently? <USER> @AppleSupport My iPhone is on 11.1.2, and my watch is on 4.1. <SYSTEM> @135060 Thank you. Have you tried restarting both devices since this started happening? <USER> @AppleSupport I’ve restarted both, also un-paired then re-paired the watch. <SYSTEM> @135060 Got it. When did you first notice that the two devices were not talking to each other. Do the two devices communicate through other apps such as Messages?', 'original user side information': '{}', 'original system side information': '{}'}]\n",
      "prompt:['']\n"
     ]
    }
   ],
   "source": [
    "from langchain_community.callbacks.utils import flatten_dict\n",
    "\n",
    "sample_dict = flatten_dict(dataset['train'][0])\n",
    "\n",
    "for key in sample_dict:\n",
    "    print(f\"{key}:{sample_dict[key]}\")"
   ]
  },
  {
   "cell_type": "code",
   "execution_count": 13,
   "metadata": {},
   "outputs": [
    {
     "name": "stdout",
     "output_type": "stream",
     "text": [
      "original dialog id:b065262210783596c1fe79466b8f8985\n",
      "new dialog id:TweetSumm--train--1\n",
      "dialog index:1\n",
      "original dialog info:{\"summaries\": {\"extractive_summaries\": [[{\"is_agent\": false, \"sentences\": [\"So neither my iPhone nor my Apple Watch are recording my steps/activity, and Health doesn\\u2019t recognise either source anymore for some reason.\"]}, {\"is_agent\": true, \"sentences\": [\"To start, can you tell us the software versions your iPhone and Apple Watch are running currently?\"]}, {\"is_agent\": false, \"sentences\": [\"@AppleSupport My iPhone is on 11.1.2, and my watch is on 4.1.\"]}], [{\"is_agent\": false, \"sentences\": [\"So neither my iPhone nor my Apple Watch are recording my steps/activity, and Health doesn\\u2019t recognise either source anymore for some reason.\"]}, {\"is_agent\": true, \"sentences\": [\"To start, can you tell us the software versions your iPhone and Apple Watch are running currently?\"]}], [{\"is_agent\": false, \"sentences\": [\"So neither my iPhone nor my Apple Watch are recording my steps/activity, and Health doesn\\u2019t recognise either source anymore for some reason.\"]}, {\"is_agent\": true, \"sentences\": [\"Have you tried restarting both devices since this started happening?\"]}, {\"is_agent\": false, \"sentences\": [\"@AppleSupport Yes, everything seems fine, it\\u2019s just Health and activity.\"]}, {\"is_agent\": true, \"sentences\": [\"@135060 Let\\u2019s move to DM and look into this a bit more.\"]}]], \"abstractive_summaries\": [[\"Customer enquired about his Iphone and Apple watch which is not showing his any steps/activity and health activities.\", \"Agent is asking to move to DM and look into it.\"], [\"The customer has a problem.\", \"The agent in a very professional way tries to help the client.\"], [\"Health and activity functions are not working with the smartwatch and phone.\", \"Asks if the customer had restarted the items, offers to take this to DM to help resolve the issue.\"]]}}\n",
      "log:[{'turn id': 1, 'user utterance': 'So neither my iPhone nor my Apple Watch are recording my steps/activity, and Health doesn’t recognise either source anymore for some reason. Any ideas? https://t.co/m9DPQbkftD @AppleSupport please read the above.', 'system response': '@135060 Let’s investigate this together. To start, can you tell us the software versions your iPhone and Apple Watch are running currently?', 'dialog history': '', 'original user side information': '{}', 'original system side information': '{}'}, {'turn id': 2, 'user utterance': '@AppleSupport My iPhone is on 11.1.2, and my watch is on 4.1.', 'system response': '@135060 Thank you. Have you tried restarting both devices since this started happening?', 'dialog history': '<USER> So neither my iPhone nor my Apple Watch are recording my steps/activity, and Health doesn’t recognise either source anymore for some reason. Any ideas? https://t.co/m9DPQbkftD @AppleSupport please read the above. <SYSTEM> @135060 Let’s investigate this together. To start, can you tell us the software versions your iPhone and Apple Watch are running currently?', 'original user side information': '{}', 'original system side information': '{}'}, {'turn id': 3, 'user utterance': '@AppleSupport I’ve restarted both, also un-paired then re-paired the watch.', 'system response': '@135060 Got it. When did you first notice that the two devices were not talking to each other. Do the two devices communicate through other apps such as Messages?', 'dialog history': '<USER> So neither my iPhone nor my Apple Watch are recording my steps/activity, and Health doesn’t recognise either source anymore for some reason. Any ideas? https://t.co/m9DPQbkftD @AppleSupport please read the above. <SYSTEM> @135060 Let’s investigate this together. To start, can you tell us the software versions your iPhone and Apple Watch are running currently? <USER> @AppleSupport My iPhone is on 11.1.2, and my watch is on 4.1. <SYSTEM> @135060 Thank you. Have you tried restarting both devices since this started happening?', 'original user side information': '{}', 'original system side information': '{}'}, {'turn id': 4, 'user utterance': '@AppleSupport Yes, everything seems fine, it’s just Health and activity.', 'system response': '@135060 Let’s move to DM and look into this a bit more. When reaching out in DM, let us know when this first started happening please. For example, did it start after an update or after installing a certain app? https://t.co/GDrqU22YpT', 'dialog history': '<USER> So neither my iPhone nor my Apple Watch are recording my steps/activity, and Health doesn’t recognise either source anymore for some reason. Any ideas? https://t.co/m9DPQbkftD @AppleSupport please read the above. <SYSTEM> @135060 Let’s investigate this together. To start, can you tell us the software versions your iPhone and Apple Watch are running currently? <USER> @AppleSupport My iPhone is on 11.1.2, and my watch is on 4.1. <SYSTEM> @135060 Thank you. Have you tried restarting both devices since this started happening? <USER> @AppleSupport I’ve restarted both, also un-paired then re-paired the watch. <SYSTEM> @135060 Got it. When did you first notice that the two devices were not talking to each other. Do the two devices communicate through other apps such as Messages?', 'original user side information': '{}', 'original system side information': '{}'}]\n",
      "prompt:['']\n"
     ]
    }
   ],
   "source": [
    "from langchain.text_splitter import RecursiveCharacterTextSplitter\n",
    "\n",
    "for key in dataset['train'][0]:\n",
    "    print(f\"{key}:{sample_dict[key]}\")\n",
    "#print()"
   ]
  },
  {
   "cell_type": "code",
   "execution_count": 63,
   "metadata": {},
   "outputs": [
    {
     "name": "stdout",
     "output_type": "stream",
     "text": [
      "turn id:\n",
      "1\n",
      "user utterance:\n",
      "So neither my iPhone nor my Apple Watch are\n",
      "recording my steps/activity, and Health doesn’t\n",
      "recognise either source anymore for some reason.\n",
      "Any ideas? https://t.co/m9DPQbkftD @AppleSupport\n",
      "please read the above.\n",
      "system response:\n",
      "@135060 Let’s investigate this together. To start,\n",
      "can you tell us the software versions your iPhone\n",
      "and Apple Watch are running currently?\n",
      "dialog history:\n",
      "original user side information:\n",
      "{}\n",
      "original system side information:\n",
      "{}\n",
      "turn id:\n",
      "2\n",
      "user utterance:\n",
      "@AppleSupport My iPhone is on 11.1.2, and my watch\n",
      "is on 4.1.\n",
      "system response:\n",
      "@135060 Thank you. Have you tried restarting both\n",
      "devices since this started happening?\n",
      "dialog history:\n",
      "<USER> So neither my iPhone nor my Apple Watch are\n",
      "recording my steps/activity, and Health doesn’t\n",
      "recognise either source anymore for some reason.\n",
      "Any ideas? https://t.co/m9DPQbkftD @AppleSupport\n",
      "please read the above. <SYSTEM> @135060 Let’s\n",
      "investigate this together. To start, can you tell\n",
      "us the software versions your iPhone and Apple\n",
      "Watch are running currently?\n",
      "original user side information:\n",
      "{}\n",
      "original system side information:\n",
      "{}\n",
      "turn id:\n",
      "3\n",
      "user utterance:\n",
      "@AppleSupport I’ve restarted both, also un-paired\n",
      "then re-paired the watch.\n",
      "system response:\n",
      "@135060 Got it. When did you first notice that the\n",
      "two devices were not talking to each other. Do\n",
      "the two devices communicate through other apps\n",
      "such as Messages?\n",
      "dialog history:\n",
      "<USER> So neither my iPhone nor my Apple Watch are\n",
      "recording my steps/activity, and Health doesn’t\n",
      "recognise either source anymore for some reason.\n",
      "Any ideas? https://t.co/m9DPQbkftD @AppleSupport\n",
      "please read the above. <SYSTEM> @135060 Let’s\n",
      "investigate this together. To start, can you tell\n",
      "us the software versions your iPhone and Apple\n",
      "Watch are running currently? <USER> @AppleSupport\n",
      "My iPhone is on 11.1.2, and my watch is on 4.1.\n",
      "<SYSTEM> @135060 Thank you. Have you tried\n",
      "restarting both devices since this started\n",
      "happening?\n",
      "original user side information:\n",
      "{}\n",
      "original system side information:\n",
      "{}\n",
      "turn id:\n",
      "4\n",
      "user utterance:\n",
      "@AppleSupport Yes, everything seems fine, it’s\n",
      "just Health and activity.\n",
      "system response:\n",
      "@135060 Let’s move to DM and look into this a bit\n",
      "more. When reaching out in DM, let us know when\n",
      "this first started happening please. For example,\n",
      "did it start after an update or after installing\n",
      "a certain app? https://t.co/GDrqU22YpT\n",
      "dialog history:\n",
      "<USER> So neither my iPhone nor my Apple Watch are\n",
      "recording my steps/activity, and Health doesn’t\n",
      "recognise either source anymore for some reason.\n",
      "Any ideas? https://t.co/m9DPQbkftD @AppleSupport\n",
      "please read the above. <SYSTEM> @135060 Let’s\n",
      "investigate this together. To start, can you tell\n",
      "us the software versions your iPhone and Apple\n",
      "Watch are running currently? <USER> @AppleSupport\n",
      "My iPhone is on 11.1.2, and my watch is on 4.1.\n",
      "<SYSTEM> @135060 Thank you. Have you tried\n",
      "restarting both devices since this started\n",
      "happening? <USER> @AppleSupport I’ve restarted\n",
      "both, also un-paired then re-paired the watch.\n",
      "<SYSTEM> @135060 Got it. When did you first\n",
      "notice that the two devices were not talking to\n",
      "each other. Do the two devices communicate\n",
      "through other apps such as Messages?\n",
      "original user side information:\n",
      "{}\n",
      "original system side information:\n",
      "{}\n",
      "None\n"
     ]
    },
    {
     "data": {
      "text/plain": [
       "'for key in dataset[\\'train\\'][0]:\\n    value = dataset[\\'train\\'][0][key]\\n\\n    if type(value) is list:\\n        for v in value:\\n            print(f\"{v}\")\\n    else:        \\n        print(f\"{key}:{dataset[\\'train\\'][0][key]}\")'"
      ]
     },
     "execution_count": 63,
     "metadata": {},
     "output_type": "execute_result"
    }
   ],
   "source": [
    "def flatten_and_print(value):\n",
    "    if isinstance(value, str):\n",
    "        v_list = text_splitter.split_text(value)\n",
    "        for v in v_list:\n",
    "            print(v)\n",
    "    elif isinstance(value, list):\n",
    "        for v in value:\n",
    "            flatten_and_print(v)\n",
    "    elif isinstance(value, dict):\n",
    "        for k in value.keys():\n",
    "            print(f\"{k}:\")\n",
    "            flatten_and_print(value[k])\n",
    "    else:\n",
    "        print(f'{value}')\n",
    "\n",
    "print(flatten_and_print(dataset['train'][0]['log']))\n",
    "'''for key in dataset['train'][0]:\n",
    "    value = dataset['train'][0][key]\n",
    "\n",
    "    if type(value) is list:\n",
    "        for v in value:\n",
    "            print(f\"{v}\")\n",
    "    else:        \n",
    "        print(f\"{key}:{dataset['train'][0][key]}\")'''"
   ]
  },
  {
   "cell_type": "code",
   "execution_count": 44,
   "metadata": {},
   "outputs": [
    {
     "name": "stdout",
     "output_type": "stream",
     "text": [
      "turn id:1\n",
      "user utterance:So neither my iPhone nor my Apple Watch are recording my steps/activity, and Health doesn’t recognise either source anymore for some reason. Any ideas? https://t.co/m9DPQbkftD @AppleSupport please read the above.\n",
      "system response:@135060 Let’s investigate this together. To start, can you tell us the software versions your iPhone and Apple Watch are running currently?\n",
      "dialog history:\n",
      "original user side information:{}\n",
      "original system side information:{}\n"
     ]
    }
   ],
   "source": [
    "\n",
    "for k in dataset['train'][0]['log'][0].keys():\n",
    "    value = dataset['train'][0]['log'][0][k]\n",
    "\n",
    "    if type(value) == 'str' and len(value) > 50:\n",
    "        print(f\"{k}:\")\n",
    "        v_list = text_splitter.split_text(value)\n",
    "        for v in v_list:\n",
    "            print(v)\n",
    "    else:\n",
    "        print(f\"{k}:{dataset['train'][0]['log'][0][k]}\")"
   ]
  },
  {
   "cell_type": "code",
   "execution_count": 49,
   "metadata": {},
   "outputs": [
    {
     "name": "stdout",
     "output_type": "stream",
     "text": [
      "So neither my iPhone nor my Apple Watch are\n",
      "recording my steps/activity, and Health doesn’t\n",
      "recognise either source anymore for some reason.\n",
      "Any ideas? https://t.co/m9DPQbkftD @AppleSupport\n",
      "please read the above.\n"
     ]
    }
   ],
   "source": [
    "value = dataset['train'][0]['log'][0]['user utterance']\n",
    "\n",
    "v_list = text_splitter.split_text(value)\n",
    "\n",
    "for v in v_list:\n",
    "    print(v)"
   ]
  },
  {
   "cell_type": "code",
   "execution_count": 33,
   "metadata": {},
   "outputs": [
    {
     "name": "stdout",
     "output_type": "stream",
     "text": [
      "[{'turn id': 1, 'user utterance': 'So neither my iPhone nor my Apple Watch are recording my steps/activity, and Health doesn’t recognise either source anymore for some reason. Any ideas? https://t.co/m9DPQbkftD @AppleSupport please read the above.', 'system response': '@135060 Let’s investigate this together. To start, can you tell us the software versions your iPhone and Apple Watch are running currently?', 'dialog history': '', 'original user side information': '{}', 'original system side information': '{}'}, {'turn id': 2, 'user utterance': '@AppleSupport My iPhone is on 11.1.2, and my watch is on 4.1.', 'system response': '@135060 Thank you. Have you tried restarting both devices since this started happening?', 'dialog history': '<USER> So neither my iPhone nor my Apple Watch are recording my steps/activity, and Health doesn’t recognise either source anymore for some reason. Any ideas? https://t.co/m9DPQbkftD @AppleSupport please read the above. <SYSTEM> @135060 Let’s investigate this together. To start, can you tell us the software versions your iPhone and Apple Watch are running currently?', 'original user side information': '{}', 'original system side information': '{}'}, {'turn id': 3, 'user utterance': '@AppleSupport I’ve restarted both, also un-paired then re-paired the watch.', 'system response': '@135060 Got it. When did you first notice that the two devices were not talking to each other. Do the two devices communicate through other apps such as Messages?', 'dialog history': '<USER> So neither my iPhone nor my Apple Watch are recording my steps/activity, and Health doesn’t recognise either source anymore for some reason. Any ideas? https://t.co/m9DPQbkftD @AppleSupport please read the above. <SYSTEM> @135060 Let’s investigate this together. To start, can you tell us the software versions your iPhone and Apple Watch are running currently? <USER> @AppleSupport My iPhone is on 11.1.2, and my watch is on 4.1. <SYSTEM> @135060 Thank you. Have you tried restarting both devices since this started happening?', 'original user side information': '{}', 'original system side information': '{}'}, {'turn id': 4, 'user utterance': '@AppleSupport Yes, everything seems fine, it’s just Health and activity.', 'system response': '@135060 Let’s move to DM and look into this a bit more. When reaching out in DM, let us know when this first started happening please. For example, did it start after an update or after installing a certain app? https://t.co/GDrqU22YpT', 'dialog history': '<USER> So neither my iPhone nor my Apple Watch are recording my steps/activity, and Health doesn’t recognise either source anymore for some reason. Any ideas? https://t.co/m9DPQbkftD @AppleSupport please read the above. <SYSTEM> @135060 Let’s investigate this together. To start, can you tell us the software versions your iPhone and Apple Watch are running currently? <USER> @AppleSupport My iPhone is on 11.1.2, and my watch is on 4.1. <SYSTEM> @135060 Thank you. Have you tried restarting both devices since this started happening? <USER> @AppleSupport I’ve restarted both, also un-paired then re-paired the watch. <SYSTEM> @135060 Got it. When did you first notice that the two devices were not talking to each other. Do the two devices communicate through other apps such as Messages?', 'original user side information': '{}', 'original system side information': '{}'}]\n"
     ]
    }
   ],
   "source": [
    "text_splitter = RecursiveCharacterTextSplitter(chunk_size=50, chunk_overlap=0)\n",
    "dict = text_splitter.split_text(dataset['train'][0]['original dialog info'])\n",
    "'''for d in dict:\n",
    "    print(f\"{d}\")'''\n",
    "\n",
    "print(dataset['train'][0]['log'])"
   ]
  },
  {
   "cell_type": "code",
   "execution_count": 3,
   "metadata": {},
   "outputs": [
    {
     "name": "stderr",
     "output_type": "stream",
     "text": [
      "INFO:root:Processing dataset...\n",
      "INFO:root:Processing dataset...\n"
     ]
    }
   ],
   "source": [
    "dataset[\"train\"] = process_text.process_dataset(dataset[\"train\"])\n",
    "dataset[\"validation\"] = process_text.process_dataset(dataset[\"validation\"])\n",
    "\n"
   ]
  },
  {
   "cell_type": "code",
   "execution_count": 3,
   "metadata": {},
   "outputs": [
    {
     "name": "stdout",
     "output_type": "stream",
     "text": [
      "Dataset({\n",
      "    features: ['original dialog id', 'new dialog id', 'dialog index', 'original dialog info', 'log', 'prompt'],\n",
      "    num_rows: 879\n",
      "})\n"
     ]
    }
   ],
   "source": [
    "print(dataset['train'])"
   ]
  },
  {
   "cell_type": "markdown",
   "metadata": {},
   "source": [
    "#### Evaluate model"
   ]
  },
  {
   "cell_type": "code",
   "execution_count": 4,
   "metadata": {},
   "outputs": [
    {
     "name": "stderr",
     "output_type": "stream",
     "text": [
      "INFO:root:Creating model meta-llama/Llama-2-7b-hf..\n"
     ]
    },
    {
     "data": {
      "application/vnd.jupyter.widget-view+json": {
       "model_id": "066ce66ce0154cee84928b306902b688",
       "version_major": 2,
       "version_minor": 0
      },
      "text/plain": [
       "Loading checkpoint shards:   0%|          | 0/2 [00:00<?, ?it/s]"
      ]
     },
     "metadata": {},
     "output_type": "display_data"
    }
   ],
   "source": [
    "llm2, tokenizer = utils.create_model_and_tokenizer(llm_model_name=MODEL_NAME)"
   ]
  },
  {
   "cell_type": "code",
   "execution_count": 5,
   "metadata": {},
   "outputs": [
    {
     "data": {
      "text/html": [
       "<div>\n",
       "<style scoped>\n",
       "    .dataframe tbody tr th:only-of-type {\n",
       "        vertical-align: middle;\n",
       "    }\n",
       "\n",
       "    .dataframe tbody tr th {\n",
       "        vertical-align: top;\n",
       "    }\n",
       "\n",
       "    .dataframe thead th {\n",
       "        text-align: right;\n",
       "    }\n",
       "</style>\n",
       "<table border=\"1\" class=\"dataframe\">\n",
       "  <thead>\n",
       "    <tr style=\"text-align: right;\">\n",
       "      <th></th>\n",
       "      <th>summary</th>\n",
       "      <th>conversation</th>\n",
       "      <th>prompt</th>\n",
       "    </tr>\n",
       "  </thead>\n",
       "  <tbody>\n",
       "    <tr>\n",
       "      <th>0</th>\n",
       "      <td>Customer is complaining that the watchlist is ...</td>\n",
       "      <td>user: My watchlist is not updating with new ep...</td>\n",
       "      <td>### Instruction: Below is a conversation betwe...</td>\n",
       "    </tr>\n",
       "    <tr>\n",
       "      <th>1</th>\n",
       "      <td>Customer is asking about the ACC to link to th...</td>\n",
       "      <td>user: hi , my Acc was linked to an old number....</td>\n",
       "      <td>### Instruction: Below is a conversation betwe...</td>\n",
       "    </tr>\n",
       "    <tr>\n",
       "      <th>2</th>\n",
       "      <td>Customer is complaining about the new updates ...</td>\n",
       "      <td>user: the new update ios11 sucks. I can’t even...</td>\n",
       "      <td>### Instruction: Below is a conversation betwe...</td>\n",
       "    </tr>\n",
       "    <tr>\n",
       "      <th>3</th>\n",
       "      <td>Customer is complaining about parcel service  ...</td>\n",
       "      <td>user: FUCK YOU AND YOUR SHITTY PARCEL SERVICE ...</td>\n",
       "      <td>### Instruction: Below is a conversation betwe...</td>\n",
       "    </tr>\n",
       "    <tr>\n",
       "      <th>4</th>\n",
       "      <td>The customer says that he is stuck at Staines ...</td>\n",
       "      <td>user: Stuck at Staines waiting for a Reading t...</td>\n",
       "      <td>### Instruction: Below is a conversation betwe...</td>\n",
       "    </tr>\n",
       "  </tbody>\n",
       "</table>\n",
       "</div>"
      ],
      "text/plain": [
       "                                             summary  \\\n",
       "0  Customer is complaining that the watchlist is ...   \n",
       "1  Customer is asking about the ACC to link to th...   \n",
       "2  Customer is complaining about the new updates ...   \n",
       "3  Customer is complaining about parcel service  ...   \n",
       "4  The customer says that he is stuck at Staines ...   \n",
       "\n",
       "                                        conversation  \\\n",
       "0  user: My watchlist is not updating with new ep...   \n",
       "1  user: hi , my Acc was linked to an old number....   \n",
       "2  user: the new update ios11 sucks. I can’t even...   \n",
       "3  user: FUCK YOU AND YOUR SHITTY PARCEL SERVICE ...   \n",
       "4  user: Stuck at Staines waiting for a Reading t...   \n",
       "\n",
       "                                              prompt  \n",
       "0  ### Instruction: Below is a conversation betwe...  \n",
       "1  ### Instruction: Below is a conversation betwe...  \n",
       "2  ### Instruction: Below is a conversation betwe...  \n",
       "3  ### Instruction: Below is a conversation betwe...  \n",
       "4  ### Instruction: Below is a conversation betwe...  "
      ]
     },
     "execution_count": 5,
     "metadata": {},
     "output_type": "execute_result"
    }
   ],
   "source": [
    "examples = []\n",
    "for data_point in dataset[\"test\"].select(range(5)):\n",
    "    summaries = json.loads(data_point[\"original dialog info\"])[\"summaries\"][\n",
    "        \"abstractive_summaries\"\n",
    "    ]\n",
    "    summary = summaries[0]\n",
    "    summary = \" \".join(summary)\n",
    "    conversation = process_text.create_conversation_text(data_point)\n",
    "    examples.append(\n",
    "        {\n",
    "            \"summary\": summary,\n",
    "            \"conversation\": conversation,\n",
    "            \"prompt\": process_text.generate_deployment_prompt(conversation),\n",
    "        }\n",
    "    )\n",
    "test_df = pd.DataFrame(examples)\n",
    "test_df"
   ]
  },
  {
   "cell_type": "code",
   "execution_count": 6,
   "metadata": {},
   "outputs": [],
   "source": [
    "def summarize(model, text: str):\n",
    "    inputs = tokenizer(text, return_tensors=\"pt\").to(DEVICE)\n",
    "    inputs_length = len(inputs[\"input_ids\"][0])\n",
    "    with torch.inference_mode():\n",
    "        outputs = model.generate(**inputs, max_new_tokens=256, temperature=0.0001)\n",
    "    return tokenizer.decode(outputs[0][inputs_length:], skip_special_tokens=True)\n",
    "\n",
    "\n",
    "example = test_df.iloc[0]\n",
    "summary = summarize(llm2, example.prompt)"
   ]
  },
  {
   "cell_type": "code",
   "execution_count": 7,
   "metadata": {},
   "outputs": [
    {
     "name": "stdout",
     "output_type": "stream",
     "text": [
      "('\\n'\n",
      " '    user: My watchlist is not updating with new episodes (past couple days). '\n",
      " 'Any idea why?\\n'\n",
      " \"    agent: Apologies for the trouble, Norlene! We're looking into this. In \"\n",
      " 'the meantime, try navigating to the season / episode manually.\\n'\n",
      " '    user: Tried logging out/back in, that didn’t help\\n'\n",
      " '    agent: Sorry! 😔 We assure you that our team is working hard to '\n",
      " 'investigate, and we hope to have a fix ready soon!\\n'\n",
      " '    user: Thank you! Some shows updated overnight, but others did not...\\n'\n",
      " '    agent: We definitely understand, Norlene. For now, we recommend checking '\n",
      " 'the show page for these shows as the new eps will be there\\n'\n",
      " '    user: As of this morning, the problem seems to be resolved. Watchlist '\n",
      " 'updated overnight with all new episodes. Thank you for your attention to '\n",
      " 'this matter! I love Hulu 💚\\n'\n",
      " \"    agent: Awesome! That's what we love to hear. If you happen to need \"\n",
      " \"anything else, we'll be here to support! 💚\\n\"\n",
      " '\\n'\n",
      " '    ### Output:\\n'\n",
      " '    user: My watchlist is not updating')\n"
     ]
    }
   ],
   "source": [
    "pprint(summary)"
   ]
  }
 ],
 "metadata": {
  "kernelspec": {
   "display_name": "cloudspace",
   "language": "python",
   "name": "python3"
  },
  "language_info": {
   "codemirror_mode": {
    "name": "ipython",
    "version": 3
   },
   "file_extension": ".py",
   "mimetype": "text/x-python",
   "name": "python",
   "nbconvert_exporter": "python",
   "pygments_lexer": "ipython3",
   "version": "3.10.10"
  }
 },
 "nbformat": 4,
 "nbformat_minor": 2
}
