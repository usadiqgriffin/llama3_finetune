{
 "cells": [
  {
   "cell_type": "markdown",
   "metadata": {},
   "source": [
    "#### Let's first load the llama2 base model and deploy it"
   ]
  },
  {
   "cell_type": "code",
   "execution_count": 1,
   "metadata": {},
   "outputs": [],
   "source": [
    "import json\n",
    "import re\n",
    "from pprint import pprint\n",
    "from src import process_text, model\n",
    "\n",
    "import pandas as pd\n",
    "import torch\n",
    "from datasets import Dataset, load_dataset\n",
    "from huggingface_hub import notebook_login\n",
    "from peft import LoraConfig, PeftModel\n",
    "from transformers import (\n",
    "    AutoModelForCausalLM,\n",
    "    AutoTokenizer,\n",
    "    BitsAndBytesConfig,\n",
    "    TrainingArguments,\n",
    ")\n",
    "from trl import SFTTrainer\n",
    "import logging\n",
    "\n",
    "logging.basicConfig(level=logging.INFO)\n",
    "\n",
    "DEVICE = \"cuda:0\" if torch.cuda.is_available() else \"cpu\"\n",
    "#MODEL_NAME = \"meta-llama/Meta-Llama-3-8B-Instruct\"\n",
    "MODEL_NAME = \"meta-llama/Llama-2-7b-hf\""
   ]
  },
  {
   "cell_type": "markdown",
   "metadata": {},
   "source": [
    "#### Download and extract data"
   ]
  },
  {
   "cell_type": "code",
   "execution_count": 2,
   "metadata": {},
   "outputs": [
    {
     "name": "stderr",
     "output_type": "stream",
     "text": [
      "/home/zeus/miniconda3/envs/cloudspace/lib/python3.10/site-packages/datasets/load.py:1486: FutureWarning: The repository for Salesforce/dialogstudio contains custom code which must be executed to correctly load the dataset. You can inspect the repository content at https://hf.co/datasets/Salesforce/dialogstudio\n",
      "You can avoid this message in future by passing the argument `trust_remote_code=True`.\n",
      "Passing `trust_remote_code=True` will be mandatory to load this dataset from the next major release of `datasets`.\n",
      "  warnings.warn(\n"
     ]
    }
   ],
   "source": [
    "dataset = load_dataset(\"Salesforce/dialogstudio\", \"TweetSumm\")\n",
    "\n",
    "DEFAULT_SYSTEM_PROMPT = \"\"\"\n",
    "                        Below is a conversation between a human and an AI agent. Write a summary of the conversation.\n",
    "                        \"\"\".strip()"
   ]
  },
  {
   "cell_type": "code",
   "execution_count": 3,
   "metadata": {},
   "outputs": [
    {
     "name": "stderr",
     "output_type": "stream",
     "text": [
      "INFO:root:Processing dataset...\n",
      "INFO:root:Processing dataset...\n"
     ]
    }
   ],
   "source": [
    "dataset[\"train\"] = process_text.process_dataset(dataset[\"train\"])\n",
    "dataset[\"validation\"] = process_text.process_dataset(dataset[\"validation\"])\n",
    "\n"
   ]
  },
  {
   "cell_type": "markdown",
   "metadata": {},
   "source": [
    "#### Evaluate model"
   ]
  },
  {
   "cell_type": "code",
   "execution_count": 4,
   "metadata": {},
   "outputs": [
    {
     "name": "stderr",
     "output_type": "stream",
     "text": [
      "INFO:root:Creating model meta-llama/Llama-2-7b-hf..\n"
     ]
    },
    {
     "data": {
      "application/vnd.jupyter.widget-view+json": {
       "model_id": "066ce66ce0154cee84928b306902b688",
       "version_major": 2,
       "version_minor": 0
      },
      "text/plain": [
       "Loading checkpoint shards:   0%|          | 0/2 [00:00<?, ?it/s]"
      ]
     },
     "metadata": {},
     "output_type": "display_data"
    }
   ],
   "source": [
    "llm2, tokenizer = model.create_model_and_tokenizer(llm_model_name=MODEL_NAME)"
   ]
  },
  {
   "cell_type": "code",
   "execution_count": 5,
   "metadata": {},
   "outputs": [
    {
     "data": {
      "text/html": [
       "<div>\n",
       "<style scoped>\n",
       "    .dataframe tbody tr th:only-of-type {\n",
       "        vertical-align: middle;\n",
       "    }\n",
       "\n",
       "    .dataframe tbody tr th {\n",
       "        vertical-align: top;\n",
       "    }\n",
       "\n",
       "    .dataframe thead th {\n",
       "        text-align: right;\n",
       "    }\n",
       "</style>\n",
       "<table border=\"1\" class=\"dataframe\">\n",
       "  <thead>\n",
       "    <tr style=\"text-align: right;\">\n",
       "      <th></th>\n",
       "      <th>summary</th>\n",
       "      <th>conversation</th>\n",
       "      <th>prompt</th>\n",
       "    </tr>\n",
       "  </thead>\n",
       "  <tbody>\n",
       "    <tr>\n",
       "      <th>0</th>\n",
       "      <td>Customer is complaining that the watchlist is ...</td>\n",
       "      <td>user: My watchlist is not updating with new ep...</td>\n",
       "      <td>### Instruction: Below is a conversation betwe...</td>\n",
       "    </tr>\n",
       "    <tr>\n",
       "      <th>1</th>\n",
       "      <td>Customer is asking about the ACC to link to th...</td>\n",
       "      <td>user: hi , my Acc was linked to an old number....</td>\n",
       "      <td>### Instruction: Below is a conversation betwe...</td>\n",
       "    </tr>\n",
       "    <tr>\n",
       "      <th>2</th>\n",
       "      <td>Customer is complaining about the new updates ...</td>\n",
       "      <td>user: the new update ios11 sucks. I can’t even...</td>\n",
       "      <td>### Instruction: Below is a conversation betwe...</td>\n",
       "    </tr>\n",
       "    <tr>\n",
       "      <th>3</th>\n",
       "      <td>Customer is complaining about parcel service  ...</td>\n",
       "      <td>user: FUCK YOU AND YOUR SHITTY PARCEL SERVICE ...</td>\n",
       "      <td>### Instruction: Below is a conversation betwe...</td>\n",
       "    </tr>\n",
       "    <tr>\n",
       "      <th>4</th>\n",
       "      <td>The customer says that he is stuck at Staines ...</td>\n",
       "      <td>user: Stuck at Staines waiting for a Reading t...</td>\n",
       "      <td>### Instruction: Below is a conversation betwe...</td>\n",
       "    </tr>\n",
       "  </tbody>\n",
       "</table>\n",
       "</div>"
      ],
      "text/plain": [
       "                                             summary  \\\n",
       "0  Customer is complaining that the watchlist is ...   \n",
       "1  Customer is asking about the ACC to link to th...   \n",
       "2  Customer is complaining about the new updates ...   \n",
       "3  Customer is complaining about parcel service  ...   \n",
       "4  The customer says that he is stuck at Staines ...   \n",
       "\n",
       "                                        conversation  \\\n",
       "0  user: My watchlist is not updating with new ep...   \n",
       "1  user: hi , my Acc was linked to an old number....   \n",
       "2  user: the new update ios11 sucks. I can’t even...   \n",
       "3  user: FUCK YOU AND YOUR SHITTY PARCEL SERVICE ...   \n",
       "4  user: Stuck at Staines waiting for a Reading t...   \n",
       "\n",
       "                                              prompt  \n",
       "0  ### Instruction: Below is a conversation betwe...  \n",
       "1  ### Instruction: Below is a conversation betwe...  \n",
       "2  ### Instruction: Below is a conversation betwe...  \n",
       "3  ### Instruction: Below is a conversation betwe...  \n",
       "4  ### Instruction: Below is a conversation betwe...  "
      ]
     },
     "execution_count": 5,
     "metadata": {},
     "output_type": "execute_result"
    }
   ],
   "source": [
    "examples = []\n",
    "for data_point in dataset[\"test\"].select(range(5)):\n",
    "    summaries = json.loads(data_point[\"original dialog info\"])[\"summaries\"][\n",
    "        \"abstractive_summaries\"\n",
    "    ]\n",
    "    summary = summaries[0]\n",
    "    summary = \" \".join(summary)\n",
    "    conversation = process_text.create_conversation_text(data_point)\n",
    "    examples.append(\n",
    "        {\n",
    "            \"summary\": summary,\n",
    "            \"conversation\": conversation,\n",
    "            \"prompt\": process_text.generate_deployment_prompt(conversation),\n",
    "        }\n",
    "    )\n",
    "test_df = pd.DataFrame(examples)\n",
    "test_df"
   ]
  },
  {
   "cell_type": "code",
   "execution_count": 6,
   "metadata": {},
   "outputs": [],
   "source": [
    "def summarize(model, text: str):\n",
    "    inputs = tokenizer(text, return_tensors=\"pt\").to(DEVICE)\n",
    "    inputs_length = len(inputs[\"input_ids\"][0])\n",
    "    with torch.inference_mode():\n",
    "        outputs = model.generate(**inputs, max_new_tokens=256, temperature=0.0001)\n",
    "    return tokenizer.decode(outputs[0][inputs_length:], skip_special_tokens=True)\n",
    "\n",
    "\n",
    "example = test_df.iloc[0]\n",
    "summary = summarize(llm2, example.prompt)"
   ]
  },
  {
   "cell_type": "code",
   "execution_count": 7,
   "metadata": {},
   "outputs": [
    {
     "name": "stdout",
     "output_type": "stream",
     "text": [
      "('\\n'\n",
      " '    user: My watchlist is not updating with new episodes (past couple days). '\n",
      " 'Any idea why?\\n'\n",
      " \"    agent: Apologies for the trouble, Norlene! We're looking into this. In \"\n",
      " 'the meantime, try navigating to the season / episode manually.\\n'\n",
      " '    user: Tried logging out/back in, that didn’t help\\n'\n",
      " '    agent: Sorry! 😔 We assure you that our team is working hard to '\n",
      " 'investigate, and we hope to have a fix ready soon!\\n'\n",
      " '    user: Thank you! Some shows updated overnight, but others did not...\\n'\n",
      " '    agent: We definitely understand, Norlene. For now, we recommend checking '\n",
      " 'the show page for these shows as the new eps will be there\\n'\n",
      " '    user: As of this morning, the problem seems to be resolved. Watchlist '\n",
      " 'updated overnight with all new episodes. Thank you for your attention to '\n",
      " 'this matter! I love Hulu 💚\\n'\n",
      " \"    agent: Awesome! That's what we love to hear. If you happen to need \"\n",
      " \"anything else, we'll be here to support! 💚\\n\"\n",
      " '\\n'\n",
      " '    ### Output:\\n'\n",
      " '    user: My watchlist is not updating')\n"
     ]
    }
   ],
   "source": [
    "pprint(summary)"
   ]
  }
 ],
 "metadata": {
  "kernelspec": {
   "display_name": "cloudspace",
   "language": "python",
   "name": "python3"
  },
  "language_info": {
   "codemirror_mode": {
    "name": "ipython",
    "version": 3
   },
   "file_extension": ".py",
   "mimetype": "text/x-python",
   "name": "python",
   "nbconvert_exporter": "python",
   "pygments_lexer": "ipython3",
   "version": "3.10.14"
  }
 },
 "nbformat": 4,
 "nbformat_minor": 2
}
